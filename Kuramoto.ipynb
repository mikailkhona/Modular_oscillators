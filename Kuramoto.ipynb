{
 "cells": [
  {
   "cell_type": "markdown",
   "metadata": {},
   "source": [
    "# Kuramoto Network Frequency Synchronization"
   ]
  },
  {
   "cell_type": "code",
   "execution_count": 1,
   "metadata": {},
   "outputs": [],
   "source": [
    "import numpy as np\n",
    "import time\n",
    "from scipy import sparse\n",
    "import matplotlib.pyplot as plt"
   ]
  },
  {
   "cell_type": "markdown",
   "metadata": {},
   "source": [
    "#### Creates NxN interaction matrix with local uniform coupling k. Aperiodic by default (set periodic = True to make periodic).\n",
    "#### Radius determines range of local interactions. By default radius = 1 (i.e., each oscilliator interacts only with its 2 closest neighbors)"
   ]
  },
  {
   "cell_type": "code",
   "execution_count": 2,
   "metadata": {},
   "outputs": [],
   "source": [
    "def interaction_matrix(N,periodic = False, radius = 1):\n",
    "   \n",
    "    W = np.zeros((N,N))\n",
    "    for i in range(-radius,radius+1):\n",
    "        #vec = (i!=0)*(k/(2**(abs(i)-1)))*np.ones(N-abs(i))\n",
    "        vec = (i!=0)*(1)*np.ones(N-abs(i))\n",
    "        W += np.diag(vec,i)\n",
    "\n",
    "        if periodic:\n",
    "            if i != 0:\n",
    "               for j in range(abs(i)):\n",
    "#                W[j,N-abs(i)+j] = k/(2**(abs(i)-1))\n",
    "#                W[N-1-j,abs(i)-1-j] = k/(2**(abs(i)-1))\n",
    "                W[j,N-abs(i)+j] = 1\n",
    "                W[N-1-j,abs(i)-1-j] = 1\n",
    "        else:\n",
    "            W[0:radius,:] = np.zeros((radius,N))\n",
    "            W[-radius:,:] = np.zeros((radius,N))\n",
    "                \n",
    "    return W"
   ]
  },
  {
   "cell_type": "code",
   "execution_count": 3,
   "metadata": {},
   "outputs": [],
   "source": [
    "def dist(N,i,j):\n",
    "   \n",
    "    return min(abs(i-j),N-abs(i-j))\n",
    "\n",
    "def time_delay_matrix(N,alpha):\n",
    "    N = int(N)\n",
    "    A = np.zeros((N,N))\n",
    "    \n",
    "    for i in range(N):\n",
    "        for j in range(N):\n",
    "            A[i,j] = alpha*2*np.pi*dist(N,i,j)/(2*N)\n",
    "            #A[i,j] = alpha*np.pi/2\n",
    "    \n",
    "    return A"
   ]
  },
  {
   "cell_type": "markdown",
   "metadata": {},
   "source": [
    "#### Defines oscillator object with attributes phase ([0,2pi]) and frequency"
   ]
  },
  {
   "cell_type": "code",
   "execution_count": 4,
   "metadata": {},
   "outputs": [],
   "source": [
    "class oscillator:\n",
    "    def __init__(self,phase,frequency):\n",
    "        self.phase = phase\n",
    "        self.frequency = frequency"
   ]
  },
  {
   "cell_type": "markdown",
   "metadata": {},
   "source": [
    "#### Creates population of oscillators with uniform random phases and frequencies drawn from a narrow normal distribution. \n",
    "\n",
    "#### By default, uniform mean frequency (gradient= None). \n",
    "\n",
    "#### Set gradient = \"linear\",\"quadratic\", or \"exp\" to introduce corresponding frequency gradient starting at freq_0 and ending at freq_final  "
   ]
  },
  {
   "cell_type": "code",
   "execution_count": 5,
   "metadata": {},
   "outputs": [],
   "source": [
    "def create_population(N,freq_0,freq_std, gradient = None, delta_freq = 1):\n",
    "    population = []\n",
    "\n",
    "    for i in range(N):\n",
    "        phase_i = 2*np.pi*np.random.rand()\n",
    "        #uniformily spread out phases:\n",
    "        #phase_i = 2*np.pi*i/N\n",
    "        if gradient != None:\n",
    "            if gradient == \"linear\":\n",
    "                freq_i = freq_0+(i/(N-1))*delta_freq + np.random.normal(0,freq_std)\n",
    "            if gradient == \"quadratic\":\n",
    "                freq_i = freq_0 + (i/(N-1))**2*delta_freq+np.random.normal(0,freq_std)\n",
    "            if gradient == \"cubic\":\n",
    "                freq_i = freq_0 + (i/(N-1))**3*delta_freq+np.random.normal(0,freq_std)\n",
    "            if gradient == \"sqrt\":\n",
    "                freq_i = freq_0 + (i/(N-1))**0.5*delta_freq+np.random.normal(0,freq_std)\n",
    "            if gradient == \"exponential\":\n",
    "                freq_i = freq_0 + (np.exp(i)-1)/(np.exp(N-1)-1)*delta_freq +np.random.normal(0,freq_std)\n",
    "            if gradient == \"sine\":\n",
    "                freq_i = freq_0 + 6*np.sin(np.pi*i/N)        \n",
    "        else:\n",
    "            freq_i = np.random.normal(freq_0,freq_std)\n",
    "        population.append(oscillator(phase_i,freq_i))\n",
    "\n",
    "    return population"
   ]
  },
  {
   "cell_type": "markdown",
   "metadata": {},
   "source": [
    "#### Introduces a total of num_defects defects into population.\n",
    "\n",
    "#### Each defect is implemented as an oscillator that is cut off from interacting with the rest"
   ]
  },
  {
   "cell_type": "code",
   "execution_count": 6,
   "metadata": {},
   "outputs": [],
   "source": [
    "def introduce_defects(W,num_defects,loc_variability = False):\n",
    "    \n",
    "    N = np.shape(W)[0]\n",
    "    indices = np.linspace(0,N-1,num_defects)\n",
    "    \n",
    "    for i in indices:\n",
    "        \n",
    "        if loc_variability:\n",
    "            x = int(np.random.normal(float(i),2))\n",
    "        else:\n",
    "            x = int(i)\n",
    "        \n",
    "        W[:,x] = np.zeros(N)\n",
    "        W[x,:] = np.zeros(N)\n",
    "    \n",
    "    return W"
   ]
  },
  {
   "cell_type": "markdown",
   "metadata": {},
   "source": [
    "### Single time step update to oscillator population using a fourth order Runge-Kutta method (RK4)"
   ]
  },
  {
   "cell_type": "code",
   "execution_count": 7,
   "metadata": {},
   "outputs": [],
   "source": [
    "## f = dTheta/dt \n",
    "def f(W,k,frequencies,thetas):\n",
    "    f = frequencies+k*np.imag(np.exp(-1j*thetas)*W.dot(np.exp(1j*thetas)))\n",
    "    return f\n",
    "\n",
    "\n",
    "def update_population_RK(W,k_temp,a,total_phases,thetas,frequencies,dt):\n",
    "    \n",
    "    k1 = dt*f(W,k,frequencies,thetas)\n",
    "    \n",
    "    k2 = dt*f(W,k,frequencies,thetas+0.5*k1)\n",
    "    \n",
    "    k3 = dt*f(W,k,frequencies,thetas+0.5*k2)\n",
    "    \n",
    "    k4 = dt*f(W,k,frequencies,thetas+k3)\n",
    "    \n",
    "    delta_theta = (k1+2*k2+2*k3+k4)/6\n",
    "    \n",
    "    thetas += delta_theta\n",
    "    thetas = np.mod(thetas,2*np.pi)\n",
    "    total_phases += delta_theta\n",
    "    \n",
    "    return (thetas, total_phases)"
   ]
  },
  {
   "cell_type": "markdown",
   "metadata": {},
   "source": [
    "### Models evolution of population for time T"
   ]
  },
  {
   "cell_type": "code",
   "execution_count": 8,
   "metadata": {},
   "outputs": [],
   "source": [
    "def update_system(W,k_t,vel_t,total_phases,thetas,frequencies,T,dt,N):\n",
    "    \n",
    "    ## keeps track of population pattern (phases) in time \n",
    "    system_t  = np.zeros((int(T/dt),N))\n",
    "    \n",
    "    system_t_total = np.zeros((int(T/dt),N))\n",
    "    \n",
    "    for t in range(int(T/dt)):\n",
    "        \n",
    "        system_t[t,:] = thetas.flatten()\n",
    "        system_t_total[t,:] = total_phases.flatten()\n",
    "        \n",
    "        if vel_t is None:\n",
    "            a = None\n",
    "        else:\n",
    "            if t < 0.4*int(T/dt):\n",
    "                a = 1\n",
    "            else:\n",
    "                a = vel_t[t]\n",
    "        \n",
    "        try:\n",
    "            k_temp = k_t[t]\n",
    "        except:\n",
    "            k_temp = k_t\n",
    "        \n",
    "        thetas, total_phases = update_population_RK(W,k_temp,a,total_phases,thetas,frequencies,dt)\n",
    "            \n",
    "    \n",
    "    return (system_t, system_t_total)"
   ]
  },
  {
   "cell_type": "markdown",
   "metadata": {},
   "source": [
    "### Creates \"random walk\" time series of velocities"
   ]
  },
  {
   "cell_type": "code",
   "execution_count": 9,
   "metadata": {},
   "outputs": [],
   "source": [
    "def create_vel(T,dt):\n",
    "    \n",
    "    def f(y,t):\n",
    "        return 0.0\n",
    "    \n",
    "    def G(y,t):\n",
    "        if t < int(0.0*T):\n",
    "            return 0\n",
    "        else:\n",
    "            return 0.001\n",
    "    \n",
    "    y0 = 0\n",
    "    \n",
    "    tspan = np.linspace(0,T,int(T/dt))\n",
    "    \n",
    "    return sdeint.itoint(f=f,G=G,y0 = y0,tspan = tspan)"
   ]
  },
  {
   "cell_type": "markdown",
   "metadata": {},
   "source": [
    "## Runs Simulation"
   ]
  },
  {
   "cell_type": "code",
   "execution_count": 10,
   "metadata": {},
   "outputs": [],
   "source": [
    "def simulate(N,k,k_dynamic,velocity,alpha,radius,periodic,defects,num_defects,freq_0,delta_freq,freq_std,gradient,T,dt):\n",
    "    \n",
    "    start_time = time.time()\n",
    "    \n",
    "\n",
    "    ## population of N oscillators \n",
    "    population = create_population(N,freq_0,freq_std,gradient = gradient,delta_freq = delta_freq)\n",
    "    \n",
    "    ## Nx1 vectors containing the phase and frequency of each oscillator \n",
    "    phases = np.array([[oscillator.phase for oscillator in population]]).T\n",
    "    total_phases = np.array([[oscillator.phase for oscillator in population]]).T\n",
    "    frequencies = np.array([[oscillator.frequency for oscillator in population]]).T\n",
    "    \n",
    "    \n",
    "#    if periodic == False:\n",
    "#        N = N + 2*radius\n",
    "#        left_phases = 2*np.pi*np.random.random_sample((radius,1))\n",
    "#        right_phases = 2*np.pi*np.random.random_sample((radius,1))\n",
    "#        phases = np.concatenate((left_phases,phases,right_phases))\n",
    "#        total_phases = np.ndarray.copy(phases)\n",
    "#        left_freqs = freq_0*np.ones((radius,1)) +  np.random.normal(0,freq_std,(radius,1))\n",
    "#        right_freqs = (freq_0+delta_freq)*np.ones((radius,1)) + np.random.normal(0,freq_std,(radius,1))    \n",
    "#        frequencies = np.concatenate((left_freqs,frequencies,right_freqs))\n",
    "#        \n",
    "        \n",
    "    ## Matrix of pair-wise oscillator couplings \n",
    "    W = interaction_matrix(N,periodic = periodic,radius = radius)\n",
    "\n",
    "    \n",
    "    if defects:\n",
    "        W = introduce_defects(W,num_defects)\n",
    "\n",
    "    \n",
    "    A = time_delay_matrix(N,alpha)\n",
    "    W = W*np.exp(-1j*A)\n",
    "\n",
    "    \n",
    "\n",
    "        \n",
    "        \n",
    "    ## Interaction matrix in sparse format\n",
    "    W = sparse.csr_matrix(W)\n",
    "    \n",
    "    ## if k_dynamic == True, models k as a saturating exponential\n",
    "    if k_dynamic:\n",
    "        t = np.linspace(0,T,int(T/dt))\n",
    "        k_t = k*(1-np.exp(-t/(0.2*T)))\n",
    "    else:\n",
    "        k_t = k\n",
    "        \n",
    "    ## time series of input velocities \n",
    "    if velocity:\n",
    "        vel_t = 10*create_vel(T,dt) + 1\n",
    "        np.save(\"trajectory.npy\",vel_t)\n",
    "        import matplotlib.pyplot as plt\n",
    "        plt.plot(vel_t)\n",
    "    else:\n",
    "        vel_t = None\n",
    "    \n",
    "\n",
    "    ##updates all oscillators \n",
    "    system_t, system_t_total = update_system(W,k_t,vel_t,total_phases,phases,frequencies,T,dt,N)\n",
    "    \n",
    "    simulation_time = time.time() - start_time\n",
    "    \n",
    "    print(simulation_time)\n",
    "    \n",
    "    return system_t, system_t_total, frequencies, sparse.csr_matrix.todense(W)\n"
   ]
  },
  {
   "cell_type": "markdown",
   "metadata": {},
   "source": [
    "# Analysis/Plotting Functions"
   ]
  },
  {
   "cell_type": "code",
   "execution_count": 11,
   "metadata": {},
   "outputs": [],
   "source": [
    "## Calculates numerical time derivative of oscillator phases at all times t \n",
    "def calc_eff_freq(system_t,dt):\n",
    "    size = np.shape(system_t)\n",
    "    eff_freqs_t = np.zeros((size[0]-2,size[1]))\n",
    "    for t in range(1,size[0]-1):  \n",
    "        delta = (system_t[t+1]-system_t[t-1])\n",
    "        eff_freqs_t[t-1,:] = delta/(2*dt)\n",
    "    return eff_freqs_t\n",
    "\n",
    "\n",
    "\n",
    "## Calculates order parameter r (population phase-coherence)\n",
    "def local_order_parameter(phase_data,W,R):\n",
    "    dims = np.shape(phase_data)\n",
    "  \n",
    "    r = np.zeros(dims)\n",
    "  \n",
    "    for t in range(dims[0]):\n",
    "        r_t = np.abs(np.dot(W,np.exp(1j*phase_data[t][:])))\n",
    "        r[t,:] = r_t\n",
    "        \n",
    "        \n",
    "    return r/(2*R)\n",
    "\n",
    "\n",
    "def eff_freqs_std(eff_freqs):\n",
    "    return np.std(eff_freqs) \n",
    "\n",
    "\n",
    "def errorfill(x, y,yerr, color=None, alpha_fill=0.3, ax=None):\n",
    "    if np.isscalar(yerr) or len(yerr) == len(y):\n",
    "        ymin = y - yerr\n",
    "        ymax = y + yerr\n",
    "    elif len(yerr) == 2:\n",
    "        ymin, ymax = yerr\n",
    "    a = plt.figure(dpi=100)\n",
    "    plt.plot(x, y, color=color,figure=a)\n",
    "    plt.fill_between(x, ymax, ymin, color=\"red\", alpha=alpha_fill)\n",
    "    plt.xlabel(\"Oscillator\")\n",
    "    #plt.ylabel(\"⟨dθ/dt⟩/⟨α(t)⟩\")\n",
    "    plt.ylabel(\"⟨dθ/dt⟩\")\n",
    "    #plt.savefig('k=' + str(k) +'.png')"
   ]
  },
  {
   "cell_type": "markdown",
   "metadata": {},
   "source": [
    "# Simulation"
   ]
  },
  {
   "cell_type": "code",
   "execution_count": 12,
   "metadata": {
    "scrolled": false
   },
   "outputs": [
    {
     "name": "stdout",
     "output_type": "stream",
     "text": [
      "11.914980173110962\n"
     ]
    },
    {
     "data": {
      "image/png": "[encoded data removed]",
      "text/plain": [
       "<Figure size 600x400 with 1 Axes>"
      ]
     },
     "metadata": {
      "needs_background": "light"
     },
     "output_type": "display_data"
    }
   ],
   "source": [
    "# N : number of oscillators\n",
    "N = 200\n",
    "# k : coupling constant\n",
    "k = 0.19 #0.17 #0.18\n",
    "# k_dynamic: set to True to make k a dynamic variable\n",
    "k_dynamic = False\n",
    "# velocity: set to True to introduce velocity inputs, False otherwise\n",
    "velocity = False\n",
    "# alpha: time delay constant\n",
    "alpha = 0.0\n",
    "# radius : radius of local interactions\n",
    "radius = 12 #int(0.1*N)\n",
    "# periodic : set to True for periodic topology, set to False for aperiodic topology\n",
    "periodic = True\n",
    "# defects : set to True to introduce sparse uniformly ditributed defects \n",
    "defects = False\n",
    "# num_defects : specify number of defects to introduce \n",
    "num_defects = int(0.05*N)\n",
    "# freq_0 : initial center of frequency distribution\n",
    "freq_0 = 0\n",
    "# delta_freq : absolute change in frequency due to gradient. final freq = freq_0 + delta_freq\n",
    "delta_freq = 0.06*N\n",
    "# freq_std : std of frequency distribution\n",
    "freq_std = 0.0\n",
    "# gradient : sets functional form of population frequency gradient. gradient one of {None,\"linear\",\"quadratic\",\"exponential\"}\n",
    "gradient = \"linear\" \n",
    "# T : simulation time length\n",
    "T = 800\n",
    "# dt : time step width\n",
    "dt = 0.01\n",
    "\n",
    "\n",
    "phases, phases_total, freqs, W = simulate(N,k,k_dynamic,velocity,alpha,radius,periodic,defects,num_defects,freq_0,delta_freq,freq_std,gradient,T,dt)\n",
    "\n",
    "# if not periodic:\n",
    "#     N = N + 2*radius\n",
    "\n",
    "eff_freqs = calc_eff_freq(phases_total,dt)\n",
    "\n",
    "x = np.linspace(0,N,N)\n",
    "y = np.mean(eff_freqs[int(0.9*N):],axis=0)\n",
    "yerr = np.std(eff_freqs[int(0.9*N):],axis=0)\n",
    "\n",
    "errorfill(x,y,yerr,color=\"black\")"
   ]
  },
  {
   "cell_type": "markdown",
   "metadata": {},
   "source": [
    "# Count number of modules:\n",
    "\n",
    "1. Find numerical derivative\n",
    "2. Smooth out resulting derivative. Use either Gaussian filter or Savitzky-Golay filter (play around with filter params, but Gaussian should be mostly fine)\n",
    "3. Find peaks using scipy.signal \n",
    "4. Check to see if modules are evenly spread out. If not, may indicate lack of consistent module formation"
   ]
  },
  {
   "cell_type": "code",
   "execution_count": 17,
   "metadata": {},
   "outputs": [
    {
     "name": "stdout",
     "output_type": "stream",
     "text": [
      "8 modules detected\n"
     ]
    },
    {
     "data": {
      "image/png": "[encoded data removed]",
      "text/plain": [
       "<Figure size 432x288 with 1 Axes>"
      ]
     },
     "metadata": {
      "needs_background": "light"
     },
     "output_type": "display_data"
    },
    {
     "data": {
      "image/png": "[encoded data removed]",
      "text/plain": [
       "<Figure size 432x288 with 1 Axes>"
      ]
     },
     "metadata": {
      "needs_background": "light"
     },
     "output_type": "display_data"
    },
    {
     "data": {
      "image/png": "[encoded data removed]",
      "text/plain": [
       "<Figure size 432x288 with 1 Axes>"
      ]
     },
     "metadata": {
      "needs_background": "light"
     },
     "output_type": "display_data"
    }
   ],
   "source": [
    "## 1\n",
    "x = np.linspace(0,N,N)\n",
    "y = np.mean(eff_freqs[int(0.9*N):],axis=0)\n",
    "deriv = np.diff(y)\n",
    "plot1 = plt.figure()\n",
    "plt.plot(deriv)\n",
    "\n",
    "## 2 \n",
    "from scipy import ndimage\n",
    "from scipy import signal\n",
    "smooth_deriv = ndimage.gaussian_filter1d(deriv,sigma=2)\n",
    "#smooth_deriv = signal.savgol_filter(deriv,7,2)\n",
    "plot2 = plt.figure()\n",
    "plt.plot(smooth_deriv)\n",
    "\n",
    "## 3\n",
    "peaks = signal.find_peaks(smooth_deriv,prominence = 0.05)#,width=radius/2)\n",
    "num_steps = len(peaks[0]) + 1 \n",
    "print(str(num_steps) + \" modules detected\")\n",
    "\n",
    "## 4 \n",
    "plot3 = plt.figure()\n",
    "plt.plot(peaks[0],marker=\"o\")\n",
    "plt.plot(np.diff(peaks[0]))\n",
    "\n",
    "module_holes = signal.find_peaks(np.diff(peaks[0]),threshold=radius)\n",
    "if len(module_holes[0]) > 0:\n",
    "    print(\"No Modules: \" + str(len(module_holes[0])) + \" inconsistencies found\")"
   ]
  },
  {
   "cell_type": "markdown",
   "metadata": {},
   "source": [
    "# Create Phase Diagram from imported data"
   ]
  },
  {
   "cell_type": "code",
   "execution_count": 19,
   "metadata": {},
   "outputs": [
    {
     "data": {
      "text/plain": [
       "(546, 3)"
      ]
     },
     "execution_count": 19,
     "metadata": {},
     "output_type": "execute_result"
    }
   ],
   "source": [
    "ps = np.load(\"phase_space.npy\")\n",
    "np.shape(ps)"
   ]
  },
  {
   "cell_type": "code",
   "execution_count": 24,
   "metadata": {},
   "outputs": [
    {
     "data": {
      "text/plain": [
       "(96, 200)"
      ]
     },
     "execution_count": 24,
     "metadata": {},
     "output_type": "execute_result"
    },
    {
     "data": {
      "image/png": "[encoded data removed]",
      "text/plain": [
       "<Figure size 864x360 with 2 Axes>"
      ]
     },
     "metadata": {
      "needs_background": "light"
     },
     "output_type": "display_data"
    }
   ],
   "source": [
    "## Double loop through different values of radius & k to fill matrix:\n",
    "\n",
    "num_values_of_radius = 26\n",
    "num_values_of_k = 21\n",
    "\n",
    "starting_radius = 96\n",
    "starting_k = 0.1\n",
    "\n",
    "step_size_radius = 4\n",
    "step_size_k = 5\n",
    "\n",
    "M = np.zeros((num_values_of_radius,num_values_of_k))\n",
    "\n",
    "for m in ps:\n",
    "    i = int((m[1] - starting_radius)/step_size_radius)\n",
    "    j = int(round((m[0]-starting_k)*1000/step_size_k))\n",
    "    M[i,j] = m[2]\n",
    "\n",
    "\n",
    "\n",
    "fig, ax1 = plt.subplots(figsize=(12,5))\n",
    "\n",
    "\n",
    "pos = ax1.imshow(M, cmap = 'jet', interpolation='none', extent=[0.1,0.2,200,96])\n",
    "fig.colorbar(pos,ax=ax1,label=\"number of modules\")\n",
    "ax1.set_aspect(0.001)\n",
    "plt.xlabel(\"k\")\n",
    "plt.ylabel(\"radius\")\n",
    "plt.ylim(96,200)\n",
    "\n",
    "\n",
    "# plt.colorbar()\n",
    "# fig, ax = plt.subplots(figsize=(6,6))"
   ]
  },
  {
   "cell_type": "code",
   "execution_count": null,
   "metadata": {},
   "outputs": [],
   "source": []
  }
 ],
 "metadata": {
  "kernelspec": {
   "display_name": "Python 3",
   "language": "python",
   "name": "python3"
  },
  "language_info": {
   "codemirror_mode": {
    "name": "ipython",
    "version": 3
   },
   "file_extension": ".py",
   "mimetype": "text/x-python",
   "name": "python",
   "nbconvert_exporter": "python",
   "pygments_lexer": "ipython3",
   "version": "3.7.4"
  }
 },
 "nbformat": 4,
 "nbformat_minor": 2
}
